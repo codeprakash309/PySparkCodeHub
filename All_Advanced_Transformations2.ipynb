{
  "nbformat": 4,
  "nbformat_minor": 0,
  "metadata": {
    "colab": {
      "provenance": [],
      "authorship_tag": "ABX9TyMtk+5HdfoNpYCZdYf+7Kw5",
      "include_colab_link": true
    },
    "kernelspec": {
      "name": "python3",
      "display_name": "Python 3"
    },
    "language_info": {
      "name": "python"
    }
  },
  "cells": [
    {
      "cell_type": "markdown",
      "metadata": {
        "id": "view-in-github",
        "colab_type": "text"
      },
      "source": [
        "<a href=\"https://colab.research.google.com/github/codeprakash309/PySparkCodeHub/blob/PySparkCodeHub(Prakash)/All_Advanced_Transformations2.ipynb\" target=\"_parent\"><img src=\"https://colab.research.google.com/assets/colab-badge.svg\" alt=\"Open In Colab\"/></a>"
      ]
    },
    {
      "cell_type": "code",
      "execution_count": 2,
      "metadata": {
        "id": "uLOSF6YeEUrF"
      },
      "outputs": [],
      "source": [
        "from pyspark.sql import SparkSession\n",
        "from pyspark.sql.functions import col, when, to_date, datediff, lit, rank\n",
        "from pyspark.sql.window import Window\n"
      ]
    },
    {
      "cell_type": "code",
      "source": [
        "# ✅ Initialize Spark Session\n",
        "spark = SparkSession.builder.appName(\"AdvancedTransformations\").getOrCreate()"
      ],
      "metadata": {
        "id": "I0kalhoZE6Rb"
      },
      "execution_count": 3,
      "outputs": []
    },
    {
      "cell_type": "code",
      "source": [
        "# ✅ Employee dataset\n",
        "data = [\n",
        "    (\"Alice\", 30, \"HR\", 40000, \"New York\", \"2021-01-10\"),\n",
        "    (\"Bob\", 35, \"Finance\", 60000, \"Chicago\", \"2019-07-15\"),\n",
        "    (\"Cathy\", 28, \"IT\", 75000, \"San Francisco\", \"2020-03-01\"),\n",
        "    (\"David\", 45, \"Finance\", 80000, \"New York\", \"2018-09-10\"),\n",
        "    (\"Eva\", 32, \"IT\", 72000, \"Boston\", \"2022-05-12\"),\n",
        "    (\"Frank\", 29, \"HR\", 42000, \"Chicago\", \"2020-11-20\"),\n",
        "    (\"Grace\", 41, \"Marketing\", 52000, \"Boston\", \"2023-01-01\"),\n",
        "    (\"Henry\", 36, \"Finance\", 70000, \"San Francisco\", \"2017-02-15\"),\n",
        "    (\"Ivy\", 27, \"IT\", 68000, \"New York\", \"2020-10-25\"),\n",
        "    (\"Jake\", 39, \"Marketing\", 55000, \"Chicago\", \"2020-01-30\"),\n",
        "    (\"Karen\", 31, \"HR\", 45000, \"Boston\", \"2019-08-05\"),\n",
        "    (\"Leo\", 26, \"Finance\", 58000, \"New York\", \"2021-06-18\"),\n",
        "    (\"Mona\", 33, \"IT\", 76000, \"Chicago\", \"2018-12-25\"),\n",
        "    (\"Nick\", 40, \"Marketing\", 60000, \"San Francisco\", \"2019-03-15\")\n",
        "]\n"
      ],
      "metadata": {
        "id": "6apMDq_NE9Do"
      },
      "execution_count": 5,
      "outputs": []
    },
    {
      "cell_type": "code",
      "source": [
        "columns = [\"Name\", \"Age\", \"Department\", \"Salary\", \"City\", \"Joining_Date\"]"
      ],
      "metadata": {
        "id": "LJLsDSqmFDkE"
      },
      "execution_count": 6,
      "outputs": []
    },
    {
      "cell_type": "code",
      "source": [
        "df = spark.createDataFrame(data, columns)\n",
        "\n",
        "# Convert Joining_Date to proper date format\n",
        "df = df.withColumn(\"Joining_Date\", to_date(col(\"Joining_Date\"), \"yyyy-MM-dd\"))"
      ],
      "metadata": {
        "id": "LU5w_y0UFIjm"
      },
      "execution_count": 7,
      "outputs": []
    },
    {
      "cell_type": "code",
      "source": [
        "# 💰 1. Calculate yearly bonus = 15% of salary\n",
        "df = df.withColumn(\"Yearly_Bonus\", col(\"Salary\") * 0.15)\n"
      ],
      "metadata": {
        "id": "4YeBkRCUFOJ2"
      },
      "execution_count": 8,
      "outputs": []
    },
    {
      "cell_type": "code",
      "source": [
        "# 📊 2. Find top 2 highest-paid employees per department\n",
        "windowSpec = Window.partitionBy(\"Department\").orderBy(col(\"Salary\").desc())\n",
        "df_top2 = df.withColumn(\"Rank\", rank().over(windowSpec)).filter(col(\"Rank\") <= 2)"
      ],
      "metadata": {
        "id": "a2hoxCM_FRYq"
      },
      "execution_count": 9,
      "outputs": []
    },
    {
      "cell_type": "code",
      "source": [
        "# 🧹 3. Filter employees who joined before 2021\n",
        "df_before_2021 = df.filter(col(\"Joining_Date\") < to_date(lit(\"2021-01-01\")))"
      ],
      "metadata": {
        "id": "mP2zA3PyFUFL"
      },
      "execution_count": 10,
      "outputs": []
    },
    {
      "cell_type": "code",
      "source": [
        "# 🔀 4. Join with performance score dataset\n",
        "performance_data = [\n",
        "    (\"Alice\", 88),\n",
        "    (\"Bob\", 92),\n",
        "    (\"Cathy\", 95),\n",
        "    (\"David\", 90),\n",
        "    (\"Eva\", 80),\n",
        "    (\"Frank\", 76),\n",
        "    (\"Grace\", 85),\n",
        "    (\"Henry\", 94),\n",
        "    (\"Ivy\", 87),\n",
        "    (\"Jake\", 82),\n",
        "    (\"Karen\", 79),\n",
        "    (\"Leo\", 84),\n",
        "    (\"Mona\", 96),\n",
        "    (\"Nick\", 89)\n",
        "]"
      ],
      "metadata": {
        "id": "-Tw2YcCBF_X-"
      },
      "execution_count": 11,
      "outputs": []
    },
    {
      "cell_type": "code",
      "source": [
        "df_perf = spark.createDataFrame(performance_data, [\"Name\", \"Performance_Score\"])\n",
        "df_joined = df.join(df_perf, on=\"Name\", how=\"left\")"
      ],
      "metadata": {
        "id": "laoXySv7GFK2"
      },
      "execution_count": 13,
      "outputs": []
    },
    {
      "cell_type": "code",
      "source": [
        "# ✅ Show all results\n",
        "print(\"🎯 Full Data with Bonus:\")\n",
        "df.select(\"Name\", \"Salary\", \"Yearly_Bonus\").show()"
      ],
      "metadata": {
        "colab": {
          "base_uri": "https://localhost:8080/"
        },
        "id": "vg5GycYNGIJG",
        "outputId": "592c83b5-5a94-4b9b-dab1-a2ef6c0dd732"
      },
      "execution_count": 15,
      "outputs": [
        {
          "output_type": "stream",
          "name": "stdout",
          "text": [
            "🎯 Full Data with Bonus:\n",
            "+-----+------+------------+\n",
            "| Name|Salary|Yearly_Bonus|\n",
            "+-----+------+------------+\n",
            "|Alice| 40000|      6000.0|\n",
            "|  Bob| 60000|      9000.0|\n",
            "|Cathy| 75000|     11250.0|\n",
            "|David| 80000|     12000.0|\n",
            "|  Eva| 72000|     10800.0|\n",
            "|Frank| 42000|      6300.0|\n",
            "|Grace| 52000|      7800.0|\n",
            "|Henry| 70000|     10500.0|\n",
            "|  Ivy| 68000|     10200.0|\n",
            "| Jake| 55000|      8250.0|\n",
            "|Karen| 45000|      6750.0|\n",
            "|  Leo| 58000|      8700.0|\n",
            "| Mona| 76000|     11400.0|\n",
            "| Nick| 60000|      9000.0|\n",
            "+-----+------+------------+\n",
            "\n"
          ]
        }
      ]
    },
    {
      "cell_type": "code",
      "source": [
        "print(\"📊 Top 2 Highest-Paid per Department:\")\n",
        "df_top2.select(\"Name\", \"Department\", \"Salary\", \"Rank\").show()"
      ],
      "metadata": {
        "colab": {
          "base_uri": "https://localhost:8080/"
        },
        "id": "SqiAHy95Gkfi",
        "outputId": "9cf2e53d-845d-4fc3-a554-32180a125019"
      },
      "execution_count": 16,
      "outputs": [
        {
          "output_type": "stream",
          "name": "stdout",
          "text": [
            "📊 Top 2 Highest-Paid per Department:\n",
            "+-----+----------+------+----+\n",
            "| Name|Department|Salary|Rank|\n",
            "+-----+----------+------+----+\n",
            "|David|   Finance| 80000|   1|\n",
            "|Henry|   Finance| 70000|   2|\n",
            "|Karen|        HR| 45000|   1|\n",
            "|Frank|        HR| 42000|   2|\n",
            "| Mona|        IT| 76000|   1|\n",
            "|Cathy|        IT| 75000|   2|\n",
            "| Nick| Marketing| 60000|   1|\n",
            "| Jake| Marketing| 55000|   2|\n",
            "+-----+----------+------+----+\n",
            "\n"
          ]
        }
      ]
    },
    {
      "cell_type": "code",
      "source": [
        "print(\"🧹 Employees Joined Before 2021:\")\n",
        "df_before_2021.select(\"Name\", \"Joining_Date\").show()"
      ],
      "metadata": {
        "colab": {
          "base_uri": "https://localhost:8080/"
        },
        "id": "IG8llXngGnu0",
        "outputId": "874367c5-6643-4720-98ff-7deaa8f13a97"
      },
      "execution_count": 17,
      "outputs": [
        {
          "output_type": "stream",
          "name": "stdout",
          "text": [
            "🧹 Employees Joined Before 2021:\n",
            "+-----+------------+\n",
            "| Name|Joining_Date|\n",
            "+-----+------------+\n",
            "|  Bob|  2019-07-15|\n",
            "|Cathy|  2020-03-01|\n",
            "|David|  2018-09-10|\n",
            "|Frank|  2020-11-20|\n",
            "|Henry|  2017-02-15|\n",
            "|  Ivy|  2020-10-25|\n",
            "| Jake|  2020-01-30|\n",
            "|Karen|  2019-08-05|\n",
            "| Mona|  2018-12-25|\n",
            "| Nick|  2019-03-15|\n",
            "+-----+------------+\n",
            "\n"
          ]
        }
      ]
    },
    {
      "cell_type": "code",
      "source": [
        "print(\"🔀 Data After Joining Performance Score:\")\n",
        "df_joined.select(\"Name\", \"Salary\", \"Performance_Score\").show()"
      ],
      "metadata": {
        "colab": {
          "base_uri": "https://localhost:8080/"
        },
        "id": "KfPd6O7iGpuO",
        "outputId": "66eadcfd-c9ac-48a9-8a9d-e9a4968ddf8b"
      },
      "execution_count": 18,
      "outputs": [
        {
          "output_type": "stream",
          "name": "stdout",
          "text": [
            "🔀 Data After Joining Performance Score:\n",
            "+-----+------+-----------------+\n",
            "| Name|Salary|Performance_Score|\n",
            "+-----+------+-----------------+\n",
            "|Grace| 52000|               85|\n",
            "|  Eva| 72000|               80|\n",
            "|  Bob| 60000|               92|\n",
            "|Alice| 40000|               88|\n",
            "|David| 80000|               90|\n",
            "|Cathy| 75000|               95|\n",
            "|Frank| 42000|               76|\n",
            "|  Ivy| 68000|               87|\n",
            "| Jake| 55000|               82|\n",
            "| Nick| 60000|               89|\n",
            "|  Leo| 58000|               84|\n",
            "| Mona| 76000|               96|\n",
            "|Karen| 45000|               79|\n",
            "|Henry| 70000|               94|\n",
            "+-----+------+-----------------+\n",
            "\n"
          ]
        }
      ]
    }
  ]
}