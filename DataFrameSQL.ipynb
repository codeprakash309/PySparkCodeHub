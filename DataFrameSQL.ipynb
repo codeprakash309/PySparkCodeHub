{
  "nbformat": 4,
  "nbformat_minor": 0,
  "metadata": {
    "colab": {
      "provenance": [],
      "authorship_tag": "ABX9TyPB9dBTZqdXDx0eDnwv8+q6",
      "include_colab_link": true
    },
    "kernelspec": {
      "name": "python3",
      "display_name": "Python 3"
    },
    "language_info": {
      "name": "python"
    }
  },
  "cells": [
    {
      "cell_type": "markdown",
      "metadata": {
        "id": "view-in-github",
        "colab_type": "text"
      },
      "source": [
        "<a href=\"https://colab.research.google.com/github/codeprakash309/PySparkCodeHub/blob/PySparkCodeHub(Prakash)/DataFrameSQL.ipynb\" target=\"_parent\"><img src=\"https://colab.research.google.com/assets/colab-badge.svg\" alt=\"Open In Colab\"/></a>"
      ]
    },
    {
      "cell_type": "code",
      "execution_count": 8,
      "metadata": {
        "id": "CxLcru4vjKoy"
      },
      "outputs": [],
      "source": [
        "from pyspark.sql import SparkSession\n",
        "from pyspark.sql.functions import avg,col\n",
        "\n",
        "spark = SparkSession.builder.appName(\"PracticeTransformations\").getOrCreate()"
      ]
    },
    {
      "cell_type": "code",
      "source": [
        "data = [\n",
        "    (\"Alice\", 30, \"HR\", 40000, \"New York\"),\n",
        "    (\"Bob\", 35, \"Finance\", 60000, \"Chicago\"),\n",
        "    (\"Cathy\", 28, \"IT\", 75000, \"San Francisco\"),\n",
        "    (\"David\", 45, \"Finance\", 80000, \"New York\"),\n",
        "    (\"Eva\", 32, \"IT\", 72000, \"Boston\"),\n",
        "    (\"Frank\", 29, \"HR\", 42000, \"Chicago\"),\n",
        "    (\"Grace\", 41, \"Marketing\", 52000, \"Boston\"),\n",
        "    (\"Henry\", 36, \"Finance\", 70000, \"San Francisco\"),\n",
        "    (\"Ivy\", 27, \"IT\", 68000, \"New York\"),\n",
        "    (\"Jake\", 39, \"Marketing\", 55000, \"Chicago\"),\n",
        "    (\"Karen\", 31, \"HR\", 45000, \"Boston\"),\n",
        "    (\"Leo\", 26, \"Finance\", 58000, \"New York\"),\n",
        "    (\"Mona\", 33, \"IT\", 76000, \"Chicago\"),\n",
        "    (\"Nick\", 40, \"Marketing\", 60000, \"San Francisco\")\n",
        "]\n",
        "\n",
        "columns = [\"Name\", \"Age\", \"Department\", \"Salary\", \"City\"]"
      ],
      "metadata": {
        "id": "iSi9dsPMnFZl"
      },
      "execution_count": 2,
      "outputs": []
    },
    {
      "cell_type": "code",
      "source": [
        "df = spark.createDataFrame(data, columns)\n",
        "df.show()"
      ],
      "metadata": {
        "colab": {
          "base_uri": "https://localhost:8080/"
        },
        "id": "j3T-tDYHnbAN",
        "outputId": "253c7aa5-5bf5-4bce-96a3-6d6ca00787f9"
      },
      "execution_count": 3,
      "outputs": [
        {
          "output_type": "stream",
          "name": "stdout",
          "text": [
            "+-----+---+----------+------+-------------+\n",
            "| Name|Age|Department|Salary|         City|\n",
            "+-----+---+----------+------+-------------+\n",
            "|Alice| 30|        HR| 40000|     New York|\n",
            "|  Bob| 35|   Finance| 60000|      Chicago|\n",
            "|Cathy| 28|        IT| 75000|San Francisco|\n",
            "|David| 45|   Finance| 80000|     New York|\n",
            "|  Eva| 32|        IT| 72000|       Boston|\n",
            "|Frank| 29|        HR| 42000|      Chicago|\n",
            "|Grace| 41| Marketing| 52000|       Boston|\n",
            "|Henry| 36|   Finance| 70000|San Francisco|\n",
            "|  Ivy| 27|        IT| 68000|     New York|\n",
            "| Jake| 39| Marketing| 55000|      Chicago|\n",
            "|Karen| 31|        HR| 45000|       Boston|\n",
            "|  Leo| 26|   Finance| 58000|     New York|\n",
            "| Mona| 33|        IT| 76000|      Chicago|\n",
            "| Nick| 40| Marketing| 60000|San Francisco|\n",
            "+-----+---+----------+------+-------------+\n",
            "\n"
          ]
        }
      ]
    },
    {
      "cell_type": "code",
      "source": [
        "#Filter employees older than 35\n",
        "df.filter(df.Age > 35).show()"
      ],
      "metadata": {
        "colab": {
          "base_uri": "https://localhost:8080/"
        },
        "id": "wSmd1ePMoE3r",
        "outputId": "d23b03e7-f18c-4c36-d09c-4442b06df637"
      },
      "execution_count": 5,
      "outputs": [
        {
          "output_type": "stream",
          "name": "stdout",
          "text": [
            "+-----+---+----------+------+-------------+\n",
            "| Name|Age|Department|Salary|         City|\n",
            "+-----+---+----------+------+-------------+\n",
            "|David| 45|   Finance| 80000|     New York|\n",
            "|Grace| 41| Marketing| 52000|       Boston|\n",
            "|Henry| 36|   Finance| 70000|San Francisco|\n",
            "| Jake| 39| Marketing| 55000|      Chicago|\n",
            "| Nick| 40| Marketing| 60000|San Francisco|\n",
            "+-----+---+----------+------+-------------+\n",
            "\n"
          ]
        }
      ]
    },
    {
      "cell_type": "code",
      "source": [
        "#Group by Department and get average Salary\n",
        "df.groupBy(\"Department\").agg(avg(\"Salary\").alias(\"Avg_Salary\")).show()"
      ],
      "metadata": {
        "colab": {
          "base_uri": "https://localhost:8080/"
        },
        "id": "SEg3m32_pPi9",
        "outputId": "d32812ac-4fbb-4a5e-fb57-1b7b78e45541"
      },
      "execution_count": 9,
      "outputs": [
        {
          "output_type": "stream",
          "name": "stdout",
          "text": [
            "+----------+------------------+\n",
            "|Department|        Avg_Salary|\n",
            "+----------+------------------+\n",
            "|        HR|42333.333333333336|\n",
            "|   Finance|           67000.0|\n",
            "| Marketing|55666.666666666664|\n",
            "|        IT|           72750.0|\n",
            "+----------+------------------+\n",
            "\n"
          ]
        }
      ]
    },
    {
      "cell_type": "code",
      "source": [
        "#Add a column for Tax (e.g., 10% of Salary)\n",
        "df = df.withColumn(\"Tax\", col(\"Salary\") * 0.10)\n",
        "df.show()"
      ],
      "metadata": {
        "colab": {
          "base_uri": "https://localhost:8080/"
        },
        "id": "hSzDGKgVpy4l",
        "outputId": "134e0299-853e-40c5-9376-812d2b0932fe"
      },
      "execution_count": 11,
      "outputs": [
        {
          "output_type": "stream",
          "name": "stdout",
          "text": [
            "+-----+---+----------+------+-------------+------+\n",
            "| Name|Age|Department|Salary|         City|   Tax|\n",
            "+-----+---+----------+------+-------------+------+\n",
            "|Alice| 30|        HR| 40000|     New York|4000.0|\n",
            "|  Bob| 35|   Finance| 60000|      Chicago|6000.0|\n",
            "|Cathy| 28|        IT| 75000|San Francisco|7500.0|\n",
            "|David| 45|   Finance| 80000|     New York|8000.0|\n",
            "|  Eva| 32|        IT| 72000|       Boston|7200.0|\n",
            "|Frank| 29|        HR| 42000|      Chicago|4200.0|\n",
            "|Grace| 41| Marketing| 52000|       Boston|5200.0|\n",
            "|Henry| 36|   Finance| 70000|San Francisco|7000.0|\n",
            "|  Ivy| 27|        IT| 68000|     New York|6800.0|\n",
            "| Jake| 39| Marketing| 55000|      Chicago|5500.0|\n",
            "|Karen| 31|        HR| 45000|       Boston|4500.0|\n",
            "|  Leo| 26|   Finance| 58000|     New York|5800.0|\n",
            "| Mona| 33|        IT| 76000|      Chicago|7600.0|\n",
            "| Nick| 40| Marketing| 60000|San Francisco|6000.0|\n",
            "+-----+---+----------+------+-------------+------+\n",
            "\n"
          ]
        }
      ]
    },
    {
      "cell_type": "code",
      "source": [
        "#Count number of employees per City\n",
        "df.groupBy(\"City\").count().show()"
      ],
      "metadata": {
        "colab": {
          "base_uri": "https://localhost:8080/"
        },
        "id": "k1r3qD1xq8ZU",
        "outputId": "d5bce74d-db81-485e-b54c-fb5ad035b86b"
      },
      "execution_count": 13,
      "outputs": [
        {
          "output_type": "stream",
          "name": "stdout",
          "text": [
            "+-------------+-----+\n",
            "|         City|count|\n",
            "+-------------+-----+\n",
            "|San Francisco|    3|\n",
            "|      Chicago|    4|\n",
            "|     New York|    4|\n",
            "|       Boston|    3|\n",
            "+-------------+-----+\n",
            "\n"
          ]
        }
      ]
    },
    {
      "cell_type": "code",
      "source": [
        "#Sort by Salary (descending)\n",
        "df.orderBy(col(\"Salary\").desc()).show()"
      ],
      "metadata": {
        "colab": {
          "base_uri": "https://localhost:8080/"
        },
        "id": "cmIx7OZdq_c2",
        "outputId": "8cd6c041-adf9-461e-9efc-ab743dacbe11"
      },
      "execution_count": 15,
      "outputs": [
        {
          "output_type": "stream",
          "name": "stdout",
          "text": [
            "+-----+---+----------+------+-------------+------+\n",
            "| Name|Age|Department|Salary|         City|   Tax|\n",
            "+-----+---+----------+------+-------------+------+\n",
            "|David| 45|   Finance| 80000|     New York|8000.0|\n",
            "| Mona| 33|        IT| 76000|      Chicago|7600.0|\n",
            "|Cathy| 28|        IT| 75000|San Francisco|7500.0|\n",
            "|  Eva| 32|        IT| 72000|       Boston|7200.0|\n",
            "|Henry| 36|   Finance| 70000|San Francisco|7000.0|\n",
            "|  Ivy| 27|        IT| 68000|     New York|6800.0|\n",
            "|  Bob| 35|   Finance| 60000|      Chicago|6000.0|\n",
            "| Nick| 40| Marketing| 60000|San Francisco|6000.0|\n",
            "|  Leo| 26|   Finance| 58000|     New York|5800.0|\n",
            "| Jake| 39| Marketing| 55000|      Chicago|5500.0|\n",
            "|Grace| 41| Marketing| 52000|       Boston|5200.0|\n",
            "|Karen| 31|        HR| 45000|       Boston|4500.0|\n",
            "|Frank| 29|        HR| 42000|      Chicago|4200.0|\n",
            "|Alice| 30|        HR| 40000|     New York|4000.0|\n",
            "+-----+---+----------+------+-------------+------+\n",
            "\n"
          ]
        }
      ]
    },
    {
      "cell_type": "code",
      "source": [
        "#Join with another DataFrame (e.g., Department Budget)\n",
        "budget_data = [\n",
        "    (\"HR\", 100000),\n",
        "    (\"Finance\", 200000),\n",
        "    (\"IT\", 250000),\n",
        "    (\"Marketing\", 150000)\n",
        "]\n",
        "budget_columns = [\"Department\", \"Budget\"]\n",
        "\n",
        "df_budget = spark.createDataFrame(budget_data, budget_columns)\n",
        "\n",
        "df_joined = df.join(df_budget, on=\"Department\", how=\"left\")\n",
        "df_joined.show()"
      ],
      "metadata": {
        "colab": {
          "base_uri": "https://localhost:8080/"
        },
        "id": "OyGsz3sEtr1k",
        "outputId": "5052b5bb-e10f-48c1-b590-07f0b6a68ba2"
      },
      "execution_count": 16,
      "outputs": [
        {
          "output_type": "stream",
          "name": "stdout",
          "text": [
            "+----------+-----+---+------+-------------+------+------+\n",
            "|Department| Name|Age|Salary|         City|   Tax|Budget|\n",
            "+----------+-----+---+------+-------------+------+------+\n",
            "|        HR|Alice| 30| 40000|     New York|4000.0|100000|\n",
            "|        HR|Frank| 29| 42000|      Chicago|4200.0|100000|\n",
            "|   Finance|  Bob| 35| 60000|      Chicago|6000.0|200000|\n",
            "|   Finance|David| 45| 80000|     New York|8000.0|200000|\n",
            "| Marketing|Grace| 41| 52000|       Boston|5200.0|150000|\n",
            "|        IT|Cathy| 28| 75000|San Francisco|7500.0|250000|\n",
            "|        IT|  Eva| 32| 72000|       Boston|7200.0|250000|\n",
            "|        HR|Karen| 31| 45000|       Boston|4500.0|100000|\n",
            "|   Finance|Henry| 36| 70000|San Francisco|7000.0|200000|\n",
            "|   Finance|  Leo| 26| 58000|     New York|5800.0|200000|\n",
            "| Marketing| Jake| 39| 55000|      Chicago|5500.0|150000|\n",
            "| Marketing| Nick| 40| 60000|San Francisco|6000.0|150000|\n",
            "|        IT|  Ivy| 27| 68000|     New York|6800.0|250000|\n",
            "|        IT| Mona| 33| 76000|      Chicago|7600.0|250000|\n",
            "+----------+-----+---+------+-------------+------+------+\n",
            "\n"
          ]
        }
      ]
    }
  ]
}