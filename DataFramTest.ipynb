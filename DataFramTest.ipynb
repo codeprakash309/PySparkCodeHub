{
  "nbformat": 4,
  "nbformat_minor": 0,
  "metadata": {
    "colab": {
      "provenance": [],
      "authorship_tag": "ABX9TyMYiU6Tp1EZdz72X8BK5RtT",
      "include_colab_link": true
    },
    "kernelspec": {
      "name": "python3",
      "display_name": "Python 3"
    },
    "language_info": {
      "name": "python"
    }
  },
  "cells": [
    {
      "cell_type": "markdown",
      "metadata": {
        "id": "view-in-github",
        "colab_type": "text"
      },
      "source": [
        "<a href=\"https://colab.research.google.com/github/codeprakash309/PySparkCodeHub/blob/main/DataFramTest.ipynb\" target=\"_parent\"><img src=\"https://colab.research.google.com/assets/colab-badge.svg\" alt=\"Open In Colab\"/></a>"
      ]
    },
    {
      "cell_type": "code",
      "execution_count": 5,
      "metadata": {
        "id": "DVU7lN6-nmop"
      },
      "outputs": [],
      "source": [
        "from pyspark.sql import SparkSession\n",
        "from pyspark.sql.functions import col, when\n",
        "\n",
        "spark = SparkSession.builder.appName(\"demo\").getOrCreate()"
      ]
    },
    {
      "cell_type": "code",
      "source": [
        "df = spark.createDataFrame(\n",
        "    [\n",
        "        (\"sue\", 32),\n",
        "        (\"li\", 3),\n",
        "        (\"bob\", 75),\n",
        "        (\"heo\", 13),\n",
        "    ],\n",
        "    [\"first_name\", \"age\"],\n",
        ")"
      ],
      "metadata": {
        "id": "DFn8RKULoHBL"
      },
      "execution_count": 3,
      "outputs": []
    },
    {
      "cell_type": "code",
      "source": [
        "df1 = df.withColumn(\n",
        "    \"life_stage\",\n",
        "    when(col(\"age\") < 13, \"child\")\n",
        "    .when(col(\"age\").between(13, 19), \"teenager\")\n",
        "    .otherwise(\"adult\"),\n",
        ")"
      ],
      "metadata": {
        "id": "6vkVFSxQpksS"
      },
      "execution_count": 6,
      "outputs": []
    },
    {
      "cell_type": "code",
      "source": [
        "df1.show()"
      ],
      "metadata": {
        "colab": {
          "base_uri": "https://localhost:8080/"
        },
        "id": "GUAtMK4Mo2F6",
        "outputId": "89376ca9-acbf-4210-b0fe-654b501665ae"
      },
      "execution_count": 7,
      "outputs": [
        {
          "output_type": "stream",
          "name": "stdout",
          "text": [
            "+----------+---+----------+\n",
            "|first_name|age|life_stage|\n",
            "+----------+---+----------+\n",
            "|       sue| 32|     adult|\n",
            "|        li|  3|     child|\n",
            "|       bob| 75|     adult|\n",
            "|       heo| 13|  teenager|\n",
            "+----------+---+----------+\n",
            "\n"
          ]
        }
      ]
    }
  ]
}