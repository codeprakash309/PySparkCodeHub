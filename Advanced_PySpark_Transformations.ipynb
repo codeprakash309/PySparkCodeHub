{
  "nbformat": 4,
  "nbformat_minor": 0,
  "metadata": {
    "colab": {
      "provenance": [],
      "authorship_tag": "ABX9TyNfRoJNyIG1R4LgHSaZh+I1",
      "include_colab_link": true
    },
    "kernelspec": {
      "name": "python3",
      "display_name": "Python 3"
    },
    "language_info": {
      "name": "python"
    }
  },
  "cells": [
    {
      "cell_type": "markdown",
      "metadata": {
        "id": "view-in-github",
        "colab_type": "text"
      },
      "source": [
        "<a href=\"https://colab.research.google.com/github/codeprakash309/PySparkCodeHub/blob/PySparkCodeHub(Prakash)/Advanced_PySpark_Transformations.ipynb\" target=\"_parent\"><img src=\"https://colab.research.google.com/assets/colab-badge.svg\" alt=\"Open In Colab\"/></a>"
      ]
    },
    {
      "cell_type": "code",
      "source": [
        "from pyspark.sql import SparkSession\n",
        "from pyspark.sql.window import Window\n",
        "from pyspark.sql.functions import rank\n",
        "\n",
        "spark = SparkSession.builder.appName(\"PracticeTransformations\").getOrCreate()\n",
        "\n",
        "data = [\n",
        "    (\"Alice\", 30, \"HR\", 40000, \"New York\"),\n",
        "    (\"Bob\", 35, \"Finance\", 60000, \"Chicago\"),\n",
        "    (\"Cathy\", 28, \"IT\", 75000, \"San Francisco\"),\n",
        "    (\"David\", 45, \"Finance\", 80000, \"New York\"),\n",
        "    (\"Eva\", 32, \"IT\", 72000, \"Boston\"),\n",
        "    (\"Frank\", 29, \"HR\", 42000, \"Chicago\"),\n",
        "    (\"Grace\", 41, \"Marketing\", 52000, \"Boston\"),\n",
        "    (\"Henry\", 36, \"Finance\", 70000, \"San Francisco\"),\n",
        "    (\"Ivy\", 27, \"IT\", 68000, \"New York\"),\n",
        "    (\"Jake\", 39, \"Marketing\", 55000, \"Chicago\"),\n",
        "    (\"Karen\", 31, \"HR\", 45000, \"Boston\"),\n",
        "    (\"Leo\", 26, \"Finance\", 58000, \"New York\"),\n",
        "    (\"Mona\", 33, \"IT\", 76000, \"Chicago\"),\n",
        "    (\"Nick\", 40, \"Marketing\", 60000, \"San Francisco\")\n",
        "]\n",
        "\n",
        "columns = [\"Name\", \"Age\", \"Department\", \"Salary\", \"City\"]\n",
        "\n",
        "df = spark.createDataFrame(data, columns)\n",
        "df.show()\n"
      ],
      "metadata": {
        "colab": {
          "base_uri": "https://localhost:8080/"
        },
        "id": "PkwWi8lNwBb0",
        "outputId": "338cdebe-796f-48b9-e955-a40aa74d52f5"
      },
      "execution_count": 3,
      "outputs": [
        {
          "output_type": "stream",
          "name": "stdout",
          "text": [
            "+-----+---+----------+------+-------------+\n",
            "| Name|Age|Department|Salary|         City|\n",
            "+-----+---+----------+------+-------------+\n",
            "|Alice| 30|        HR| 40000|     New York|\n",
            "|  Bob| 35|   Finance| 60000|      Chicago|\n",
            "|Cathy| 28|        IT| 75000|San Francisco|\n",
            "|David| 45|   Finance| 80000|     New York|\n",
            "|  Eva| 32|        IT| 72000|       Boston|\n",
            "|Frank| 29|        HR| 42000|      Chicago|\n",
            "|Grace| 41| Marketing| 52000|       Boston|\n",
            "|Henry| 36|   Finance| 70000|San Francisco|\n",
            "|  Ivy| 27|        IT| 68000|     New York|\n",
            "| Jake| 39| Marketing| 55000|      Chicago|\n",
            "|Karen| 31|        HR| 45000|       Boston|\n",
            "|  Leo| 26|   Finance| 58000|     New York|\n",
            "| Mona| 33|        IT| 76000|      Chicago|\n",
            "| Nick| 40| Marketing| 60000|San Francisco|\n",
            "+-----+---+----------+------+-------------+\n",
            "\n"
          ]
        }
      ]
    },
    {
      "cell_type": "code",
      "execution_count": 5,
      "metadata": {
        "colab": {
          "base_uri": "https://localhost:8080/"
        },
        "id": "86NKtHh_vL0b",
        "outputId": "083cca68-0fd5-4fee-a10c-d9f191accb87"
      },
      "outputs": [
        {
          "output_type": "stream",
          "name": "stdout",
          "text": [
            "+-----+---+----------+------+-------------+------------------+\n",
            "| Name|Age|Department|Salary|         City|Rank_in_Department|\n",
            "+-----+---+----------+------+-------------+------------------+\n",
            "|David| 45|   Finance| 80000|     New York|                 1|\n",
            "|Henry| 36|   Finance| 70000|San Francisco|                 2|\n",
            "|  Bob| 35|   Finance| 60000|      Chicago|                 3|\n",
            "|  Leo| 26|   Finance| 58000|     New York|                 4|\n",
            "|Karen| 31|        HR| 45000|       Boston|                 1|\n",
            "|Frank| 29|        HR| 42000|      Chicago|                 2|\n",
            "|Alice| 30|        HR| 40000|     New York|                 3|\n",
            "| Mona| 33|        IT| 76000|      Chicago|                 1|\n",
            "|Cathy| 28|        IT| 75000|San Francisco|                 2|\n",
            "|  Eva| 32|        IT| 72000|       Boston|                 3|\n",
            "|  Ivy| 27|        IT| 68000|     New York|                 4|\n",
            "| Nick| 40| Marketing| 60000|San Francisco|                 1|\n",
            "| Jake| 39| Marketing| 55000|      Chicago|                 2|\n",
            "|Grace| 41| Marketing| 52000|       Boston|                 3|\n",
            "+-----+---+----------+------+-------------+------------------+\n",
            "\n"
          ]
        }
      ],
      "source": [
        "#Window Functions (e.g., Rank employees by salary within department)\n",
        "\n",
        "windowSpec = Window.partitionBy(\"Department\").orderBy(df[\"Salary\"].desc())\n",
        "\n",
        "df.withColumn(\"Rank_in_Department\", rank().over(windowSpec)).show()\n"
      ]
    },
    {
      "cell_type": "code",
      "source": [
        "#Pivot Table (e.g., Salary per department per city)\n",
        "df.groupBy(\"City\").pivot(\"Department\").agg({\"Salary\": \"avg\"}).show()\n"
      ],
      "metadata": {
        "colab": {
          "base_uri": "https://localhost:8080/"
        },
        "id": "pn58nx4z5nXH",
        "outputId": "8c9745f1-1f57-4132-f5e4-0dcdf5a0d336"
      },
      "execution_count": 7,
      "outputs": [
        {
          "output_type": "stream",
          "name": "stdout",
          "text": [
            "+-------------+-------+-------+-------+---------+\n",
            "|         City|Finance|     HR|     IT|Marketing|\n",
            "+-------------+-------+-------+-------+---------+\n",
            "|San Francisco|70000.0|   NULL|75000.0|  60000.0|\n",
            "|      Chicago|60000.0|42000.0|76000.0|  55000.0|\n",
            "|     New York|69000.0|40000.0|68000.0|     NULL|\n",
            "|       Boston|   NULL|45000.0|72000.0|  52000.0|\n",
            "+-------------+-------+-------+-------+---------+\n",
            "\n"
          ]
        }
      ]
    },
    {
      "cell_type": "code",
      "source": [
        "# Handling Null Values\n",
        "from pyspark.sql.functions import when\n",
        "\n",
        "#Introduce some nulls first for testing:\n",
        "df_nulls = df.withColumn(\"Bonus\", when(df[\"Department\"] == \"HR\", None).otherwise(1000))\n",
        "df_nulls.show()\n"
      ],
      "metadata": {
        "colab": {
          "base_uri": "https://localhost:8080/"
        },
        "id": "XVV5q7Rq6EQc",
        "outputId": "f26fe4b6-86c1-4cac-b2cc-34aa1bec724f"
      },
      "execution_count": 10,
      "outputs": [
        {
          "output_type": "stream",
          "name": "stdout",
          "text": [
            "+-----+---+----------+------+-------------+-----+\n",
            "| Name|Age|Department|Salary|         City|Bonus|\n",
            "+-----+---+----------+------+-------------+-----+\n",
            "|Alice| 30|        HR| 40000|     New York| NULL|\n",
            "|  Bob| 35|   Finance| 60000|      Chicago| 1000|\n",
            "|Cathy| 28|        IT| 75000|San Francisco| 1000|\n",
            "|David| 45|   Finance| 80000|     New York| 1000|\n",
            "|  Eva| 32|        IT| 72000|       Boston| 1000|\n",
            "|Frank| 29|        HR| 42000|      Chicago| NULL|\n",
            "|Grace| 41| Marketing| 52000|       Boston| 1000|\n",
            "|Henry| 36|   Finance| 70000|San Francisco| 1000|\n",
            "|  Ivy| 27|        IT| 68000|     New York| 1000|\n",
            "| Jake| 39| Marketing| 55000|      Chicago| 1000|\n",
            "|Karen| 31|        HR| 45000|       Boston| NULL|\n",
            "|  Leo| 26|   Finance| 58000|     New York| 1000|\n",
            "| Mona| 33|        IT| 76000|      Chicago| 1000|\n",
            "| Nick| 40| Marketing| 60000|San Francisco| 1000|\n",
            "+-----+---+----------+------+-------------+-----+\n",
            "\n"
          ]
        }
      ]
    },
    {
      "cell_type": "code",
      "source": [
        "#Fill Nulls\n",
        "df_nulls.fillna({'Bonus': 500}).show()\n"
      ],
      "metadata": {
        "colab": {
          "base_uri": "https://localhost:8080/"
        },
        "id": "WDmCPjUB-_5q",
        "outputId": "927afcdf-10c1-467f-ed55-3c429d22087b"
      },
      "execution_count": 12,
      "outputs": [
        {
          "output_type": "stream",
          "name": "stdout",
          "text": [
            "+-----+---+----------+------+-------------+-----+\n",
            "| Name|Age|Department|Salary|         City|Bonus|\n",
            "+-----+---+----------+------+-------------+-----+\n",
            "|Alice| 30|        HR| 40000|     New York|  500|\n",
            "|  Bob| 35|   Finance| 60000|      Chicago| 1000|\n",
            "|Cathy| 28|        IT| 75000|San Francisco| 1000|\n",
            "|David| 45|   Finance| 80000|     New York| 1000|\n",
            "|  Eva| 32|        IT| 72000|       Boston| 1000|\n",
            "|Frank| 29|        HR| 42000|      Chicago|  500|\n",
            "|Grace| 41| Marketing| 52000|       Boston| 1000|\n",
            "|Henry| 36|   Finance| 70000|San Francisco| 1000|\n",
            "|  Ivy| 27|        IT| 68000|     New York| 1000|\n",
            "| Jake| 39| Marketing| 55000|      Chicago| 1000|\n",
            "|Karen| 31|        HR| 45000|       Boston|  500|\n",
            "|  Leo| 26|   Finance| 58000|     New York| 1000|\n",
            "| Mona| 33|        IT| 76000|      Chicago| 1000|\n",
            "| Nick| 40| Marketing| 60000|San Francisco| 1000|\n",
            "+-----+---+----------+------+-------------+-----+\n",
            "\n"
          ]
        }
      ]
    },
    {
      "cell_type": "code",
      "source": [
        "#Drop Rows with Nulls:\n",
        "df_nulls.dropna().show()\n"
      ],
      "metadata": {
        "colab": {
          "base_uri": "https://localhost:8080/"
        },
        "id": "5EXTMOTk_g67",
        "outputId": "d3b8695f-da27-4660-fd66-3975dce7f962"
      },
      "execution_count": 14,
      "outputs": [
        {
          "output_type": "stream",
          "name": "stdout",
          "text": [
            "+-----+---+----------+------+-------------+-----+\n",
            "| Name|Age|Department|Salary|         City|Bonus|\n",
            "+-----+---+----------+------+-------------+-----+\n",
            "|  Bob| 35|   Finance| 60000|      Chicago| 1000|\n",
            "|Cathy| 28|        IT| 75000|San Francisco| 1000|\n",
            "|David| 45|   Finance| 80000|     New York| 1000|\n",
            "|  Eva| 32|        IT| 72000|       Boston| 1000|\n",
            "|Grace| 41| Marketing| 52000|       Boston| 1000|\n",
            "|Henry| 36|   Finance| 70000|San Francisco| 1000|\n",
            "|  Ivy| 27|        IT| 68000|     New York| 1000|\n",
            "| Jake| 39| Marketing| 55000|      Chicago| 1000|\n",
            "|  Leo| 26|   Finance| 58000|     New York| 1000|\n",
            "| Mona| 33|        IT| 76000|      Chicago| 1000|\n",
            "| Nick| 40| Marketing| 60000|San Francisco| 1000|\n",
            "+-----+---+----------+------+-------------+-----+\n",
            "\n"
          ]
        }
      ]
    },
    {
      "cell_type": "code",
      "source": [
        "#Date/Time Columns\n",
        "#Let's say we add a Joining_Date column:\n",
        "from pyspark.sql.functions import to_date, current_date, datediff\n",
        "\n",
        "data_with_dates = df.withColumn(\"Joining_Date\", to_date(\n",
        "    when(df.Name == \"Alice\", \"2021-01-10\")\n",
        "    .when(df.Name == \"Bob\", \"2019-07-15\")\n",
        "    .otherwise(\"2020-03-01\")\n",
        "))\n",
        "\n",
        "data_with_dates.show()\n"
      ],
      "metadata": {
        "colab": {
          "base_uri": "https://localhost:8080/"
        },
        "id": "HEEmigPi_qjS",
        "outputId": "fa780bb9-0e20-4be1-ee83-ad270e4f124a"
      },
      "execution_count": 16,
      "outputs": [
        {
          "output_type": "stream",
          "name": "stdout",
          "text": [
            "+-----+---+----------+------+-------------+------------+\n",
            "| Name|Age|Department|Salary|         City|Joining_Date|\n",
            "+-----+---+----------+------+-------------+------------+\n",
            "|Alice| 30|        HR| 40000|     New York|  2021-01-10|\n",
            "|  Bob| 35|   Finance| 60000|      Chicago|  2019-07-15|\n",
            "|Cathy| 28|        IT| 75000|San Francisco|  2020-03-01|\n",
            "|David| 45|   Finance| 80000|     New York|  2020-03-01|\n",
            "|  Eva| 32|        IT| 72000|       Boston|  2020-03-01|\n",
            "|Frank| 29|        HR| 42000|      Chicago|  2020-03-01|\n",
            "|Grace| 41| Marketing| 52000|       Boston|  2020-03-01|\n",
            "|Henry| 36|   Finance| 70000|San Francisco|  2020-03-01|\n",
            "|  Ivy| 27|        IT| 68000|     New York|  2020-03-01|\n",
            "| Jake| 39| Marketing| 55000|      Chicago|  2020-03-01|\n",
            "|Karen| 31|        HR| 45000|       Boston|  2020-03-01|\n",
            "|  Leo| 26|   Finance| 58000|     New York|  2020-03-01|\n",
            "| Mona| 33|        IT| 76000|      Chicago|  2020-03-01|\n",
            "| Nick| 40| Marketing| 60000|San Francisco|  2020-03-01|\n",
            "+-----+---+----------+------+-------------+------------+\n",
            "\n"
          ]
        }
      ]
    },
    {
      "cell_type": "code",
      "source": [
        "#Find how long the employee has been with the company:\n",
        "df_with_duration = data_with_dates.withColumn(\"Days_In_Company\", datediff(current_date(), \"Joining_Date\"))\n",
        "df_with_duration.select(\"Name\", \"Joining_Date\", \"Days_In_Company\").show()\n"
      ],
      "metadata": {
        "colab": {
          "base_uri": "https://localhost:8080/"
        },
        "id": "UsXwFApWA0f3",
        "outputId": "d512e155-8d15-4ba1-ccef-09a75c962b55"
      },
      "execution_count": 17,
      "outputs": [
        {
          "output_type": "stream",
          "name": "stdout",
          "text": [
            "+-----+------------+---------------+\n",
            "| Name|Joining_Date|Days_In_Company|\n",
            "+-----+------------+---------------+\n",
            "|Alice|  2021-01-10|           1654|\n",
            "|  Bob|  2019-07-15|           2199|\n",
            "|Cathy|  2020-03-01|           1969|\n",
            "|David|  2020-03-01|           1969|\n",
            "|  Eva|  2020-03-01|           1969|\n",
            "|Frank|  2020-03-01|           1969|\n",
            "|Grace|  2020-03-01|           1969|\n",
            "|Henry|  2020-03-01|           1969|\n",
            "|  Ivy|  2020-03-01|           1969|\n",
            "| Jake|  2020-03-01|           1969|\n",
            "|Karen|  2020-03-01|           1969|\n",
            "|  Leo|  2020-03-01|           1969|\n",
            "| Mona|  2020-03-01|           1969|\n",
            "| Nick|  2020-03-01|           1969|\n",
            "+-----+------------+---------------+\n",
            "\n"
          ]
        }
      ]
    }
  ]
}