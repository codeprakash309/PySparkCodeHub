{
  "nbformat": 4,
  "nbformat_minor": 0,
  "metadata": {
    "colab": {
      "provenance": [],
      "authorship_tag": "ABX9TyNge9O6wVJQvDqLFC1Uke2r",
      "include_colab_link": true
    },
    "kernelspec": {
      "name": "python3",
      "display_name": "Python 3"
    },
    "language_info": {
      "name": "python"
    }
  },
  "cells": [
    {
      "cell_type": "markdown",
      "metadata": {
        "id": "view-in-github",
        "colab_type": "text"
      },
      "source": [
        "<a href=\"https://colab.research.google.com/github/codeprakash309/PySparkCodeHub/blob/main/PySpark_transformations_2025_07_31.ipynb\" target=\"_parent\"><img src=\"https://colab.research.google.com/assets/colab-badge.svg\" alt=\"Open In Colab\"/></a>"
      ]
    },
    {
      "cell_type": "code",
      "execution_count": 1,
      "metadata": {
        "id": "Hy8Rs4vc6qRs"
      },
      "outputs": [],
      "source": [
        "from pyspark.sql import SparkSession\n",
        "from pyspark.sql.functions import col, rand, expr, when"
      ]
    },
    {
      "cell_type": "code",
      "source": [
        "\n",
        "# Create Spark session\n",
        "spark = SparkSession.builder.appName(\"Sample50Records\").getOrCreate()"
      ],
      "metadata": {
        "id": "m3bqeVst77V3"
      },
      "execution_count": 2,
      "outputs": []
    },
    {
      "cell_type": "code",
      "source": [
        "# Create a DataFrame with 50 rows\n",
        "df = (\n",
        "    spark.range(0, 50)  # 50 records\n",
        "    .withColumn(\"user_id\", (col(\"id\") + 1000).cast(\"int\"))\n",
        "    .withColumn(\"username\", expr(\"concat('user_', id)\"))\n",
        "    .withColumn(\"age\", (rand() * 30 + 20).cast(\"int\"))  # Age between 20 and 50\n",
        "    .withColumn(\"balance\", (rand() * 100000).cast(\"double\"))  # Random salary\n",
        "    .withColumn(\"is_active\", when((col(\"id\") % 3) == 0, True).otherwise(False))\n",
        "    .withColumn(\"signup_date\", expr(\"current_date() - int(rand() * 180)\"))  # Signup within 6 months\n",
        "    .drop(\"id\")\n",
        ")"
      ],
      "metadata": {
        "id": "8rsqitVA8DzB"
      },
      "execution_count": 3,
      "outputs": []
    },
    {
      "cell_type": "code",
      "source": [
        "# Show schema and first few records\n",
        "df.printSchema()\n",
        "df.show(50, truncate=False)"
      ],
      "metadata": {
        "colab": {
          "base_uri": "https://localhost:8080/"
        },
        "id": "u3hvk7LB8I65",
        "outputId": "f20de469-6a05-43c2-f0cb-3daa69d5f7df"
      },
      "execution_count": 4,
      "outputs": [
        {
          "output_type": "stream",
          "name": "stdout",
          "text": [
            "root\n",
            " |-- user_id: integer (nullable = false)\n",
            " |-- username: string (nullable = false)\n",
            " |-- age: integer (nullable = true)\n",
            " |-- balance: double (nullable = false)\n",
            " |-- is_active: boolean (nullable = false)\n",
            " |-- signup_date: date (nullable = true)\n",
            "\n",
            "+-------+--------+---+------------------+---------+-----------+\n",
            "|user_id|username|age|balance           |is_active|signup_date|\n",
            "+-------+--------+---+------------------+---------+-----------+\n",
            "|1000   |user_0  |47 |91003.66015112009 |true     |2025-07-25 |\n",
            "|1001   |user_1  |23 |44213.78620974649 |false    |2025-06-26 |\n",
            "|1002   |user_2  |29 |77729.53566998956 |false    |2025-02-28 |\n",
            "|1003   |user_3  |46 |86894.68632900532 |true     |2025-07-01 |\n",
            "|1004   |user_4  |29 |81846.7346088069  |false    |2025-05-09 |\n",
            "|1005   |user_5  |36 |3995.35008916293  |false    |2025-02-06 |\n",
            "|1006   |user_6  |46 |37051.31249392974 |true     |2025-03-08 |\n",
            "|1007   |user_7  |47 |77137.27854320833 |false    |2025-05-06 |\n",
            "|1008   |user_8  |48 |40847.00404732502 |false    |2025-04-12 |\n",
            "|1009   |user_9  |47 |48141.54507396665 |true     |2025-03-29 |\n",
            "|1010   |user_10 |33 |96295.8099021403  |false    |2025-04-25 |\n",
            "|1011   |user_11 |40 |14730.72442746649 |false    |2025-02-07 |\n",
            "|1012   |user_12 |34 |66527.08959005556 |true     |2025-06-23 |\n",
            "|1013   |user_13 |46 |81725.40584571994 |false    |2025-03-31 |\n",
            "|1014   |user_14 |43 |3468.296687947636 |false    |2025-03-03 |\n",
            "|1015   |user_15 |37 |6896.2601443522735|true     |2025-03-03 |\n",
            "|1016   |user_16 |35 |17997.58183609733 |false    |2025-04-26 |\n",
            "|1017   |user_17 |43 |27773.662771758056|false    |2025-06-26 |\n",
            "|1018   |user_18 |22 |8892.381998371535 |true     |2025-05-20 |\n",
            "|1019   |user_19 |31 |94636.00168232094 |false    |2025-02-25 |\n",
            "|1020   |user_20 |42 |64726.665667965244|false    |2025-04-10 |\n",
            "|1021   |user_21 |32 |88287.07769500864 |true     |2025-04-28 |\n",
            "|1022   |user_22 |27 |70590.7464624839  |false    |2025-02-26 |\n",
            "|1023   |user_23 |28 |75184.77334386425 |false    |2025-04-02 |\n",
            "|1024   |user_24 |40 |28481.720311661207|true     |2025-03-02 |\n",
            "|1025   |user_25 |43 |5174.847736535815 |false    |2025-03-27 |\n",
            "|1026   |user_26 |44 |32305.823032248547|false    |2025-07-31 |\n",
            "|1027   |user_27 |44 |93699.87913120167 |true     |2025-06-03 |\n",
            "|1028   |user_28 |23 |18178.89722385686 |false    |2025-05-12 |\n",
            "|1029   |user_29 |33 |58494.811307133445|false    |2025-07-29 |\n",
            "|1030   |user_30 |37 |90057.22272489661 |true     |2025-04-09 |\n",
            "|1031   |user_31 |21 |32072.021347516355|false    |2025-05-11 |\n",
            "|1032   |user_32 |37 |47832.15268276856 |false    |2025-03-08 |\n",
            "|1033   |user_33 |33 |37029.7336601188  |true     |2025-03-28 |\n",
            "|1034   |user_34 |42 |42488.92526251848 |false    |2025-02-04 |\n",
            "|1035   |user_35 |43 |40855.62729651017 |false    |2025-02-22 |\n",
            "|1036   |user_36 |31 |25080.712072099   |true     |2025-02-13 |\n",
            "|1037   |user_37 |45 |83185.2540575403  |false    |2025-04-19 |\n",
            "|1038   |user_38 |32 |15204.16668200547 |false    |2025-04-08 |\n",
            "|1039   |user_39 |28 |61826.69462037619 |true     |2025-04-18 |\n",
            "|1040   |user_40 |28 |14537.981086998041|false    |2025-07-30 |\n",
            "|1041   |user_41 |43 |12375.192181735505|false    |2025-07-22 |\n",
            "|1042   |user_42 |36 |18822.782516749216|true     |2025-07-26 |\n",
            "|1043   |user_43 |28 |78838.83963588807 |false    |2025-05-06 |\n",
            "|1044   |user_44 |24 |18947.15935788788 |false    |2025-07-03 |\n",
            "|1045   |user_45 |25 |19952.714586494723|true     |2025-07-23 |\n",
            "|1046   |user_46 |27 |26706.98070326356 |false    |2025-06-08 |\n",
            "|1047   |user_47 |47 |13742.756072841867|false    |2025-02-23 |\n",
            "|1048   |user_48 |39 |58232.976125897505|true     |2025-07-14 |\n",
            "|1049   |user_49 |27 |54903.41830659576 |false    |2025-07-05 |\n",
            "+-------+--------+---+------------------+---------+-----------+\n",
            "\n"
          ]
        }
      ]
    },
    {
      "cell_type": "markdown",
      "source": [
        " Filter Rows"
      ],
      "metadata": {
        "id": "80aVPPT_8mZs"
      }
    },
    {
      "cell_type": "code",
      "source": [
        "# Get only active users\n",
        "df_active = df.filter(col(\"is_active\") == True)\n"
      ],
      "metadata": {
        "id": "qznjjaIb8UGB"
      },
      "execution_count": 5,
      "outputs": []
    },
    {
      "cell_type": "markdown",
      "source": [
        "the below code will show you the active user only"
      ],
      "metadata": {
        "id": "LkWudgtb80AM"
      }
    },
    {
      "cell_type": "code",
      "source": [
        "df_active.show()"
      ],
      "metadata": {
        "colab": {
          "base_uri": "https://localhost:8080/"
        },
        "id": "trPoCuuD8qXa",
        "outputId": "2c0781f6-551b-4f39-d0ef-ea569203360f"
      },
      "execution_count": 6,
      "outputs": [
        {
          "output_type": "stream",
          "name": "stdout",
          "text": [
            "+-------+--------+---+------------------+---------+-----------+\n",
            "|user_id|username|age|           balance|is_active|signup_date|\n",
            "+-------+--------+---+------------------+---------+-----------+\n",
            "|   1000|  user_0| 47| 91003.66015112009|     true| 2025-07-25|\n",
            "|   1003|  user_3| 46| 86894.68632900532|     true| 2025-07-01|\n",
            "|   1006|  user_6| 46| 37051.31249392974|     true| 2025-03-08|\n",
            "|   1009|  user_9| 47| 48141.54507396665|     true| 2025-03-29|\n",
            "|   1012| user_12| 34| 66527.08959005556|     true| 2025-06-23|\n",
            "|   1015| user_15| 37|6896.2601443522735|     true| 2025-03-03|\n",
            "|   1018| user_18| 22| 8892.381998371535|     true| 2025-05-20|\n",
            "|   1021| user_21| 32| 88287.07769500864|     true| 2025-04-28|\n",
            "|   1024| user_24| 40|28481.720311661207|     true| 2025-03-02|\n",
            "|   1027| user_27| 44| 93699.87913120167|     true| 2025-06-03|\n",
            "|   1030| user_30| 37| 90057.22272489661|     true| 2025-04-09|\n",
            "|   1033| user_33| 33|  37029.7336601188|     true| 2025-03-28|\n",
            "|   1036| user_36| 31|   25080.712072099|     true| 2025-02-13|\n",
            "|   1039| user_39| 28| 61826.69462037619|     true| 2025-04-18|\n",
            "|   1042| user_42| 36|18822.782516749216|     true| 2025-07-26|\n",
            "|   1045| user_45| 25|19952.714586494723|     true| 2025-07-23|\n",
            "|   1048| user_48| 39|58232.976125897505|     true| 2025-07-14|\n",
            "+-------+--------+---+------------------+---------+-----------+\n",
            "\n"
          ]
        }
      ]
    },
    {
      "cell_type": "markdown",
      "source": [
        "**Select Specific Columns from the data frame**"
      ],
      "metadata": {
        "id": "_bNkKF3S9F-k"
      }
    },
    {
      "cell_type": "code",
      "source": [
        "# Select only user_id and balance\n",
        "df_selected = df.select(\"user_id\", \"balance\")\n",
        "#below line of code will show you the 10 record along with selected column only\n",
        "df_selected.show(10,truncate=False)"
      ],
      "metadata": {
        "colab": {
          "base_uri": "https://localhost:8080/"
        },
        "id": "I-GF7PJc9OYm",
        "outputId": "adfa6953-fe02-4ac5-998f-ef78588953dc"
      },
      "execution_count": 9,
      "outputs": [
        {
          "output_type": "stream",
          "name": "stdout",
          "text": [
            "+-------+-----------------+\n",
            "|user_id|balance          |\n",
            "+-------+-----------------+\n",
            "|1000   |91003.66015112009|\n",
            "|1001   |44213.78620974649|\n",
            "|1002   |77729.53566998956|\n",
            "|1003   |86894.68632900532|\n",
            "|1004   |81846.7346088069 |\n",
            "|1005   |3995.35008916293 |\n",
            "|1006   |37051.31249392974|\n",
            "|1007   |77137.27854320833|\n",
            "|1008   |40847.00404732502|\n",
            "|1009   |48141.54507396665|\n",
            "+-------+-----------------+\n",
            "only showing top 10 rows\n",
            "\n"
          ]
        }
      ]
    },
    {
      "cell_type": "markdown",
      "source": [
        "**Add a New Column:**"
      ],
      "metadata": {
        "id": "HRrjOkZL93xk"
      }
    },
    {
      "cell_type": "code",
      "source": [
        "# Add a new column: balance_category\n",
        "df_with_category = df.withColumn(\n",
        "    \"balance_category\",\n",
        "    when(col(\"balance\") < 30000, \"Low\")\n",
        "    .when(col(\"balance\") < 70000, \"Medium\")\n",
        "    .otherwise(\"High\")\n",
        ")\n"
      ],
      "metadata": {
        "id": "Y4qeiO2Z9n0X"
      },
      "execution_count": 10,
      "outputs": []
    },
    {
      "cell_type": "code",
      "source": [
        "df_with_category.show(10,truncate=False)"
      ],
      "metadata": {
        "colab": {
          "base_uri": "https://localhost:8080/"
        },
        "id": "z0-lzT5l-Mlm",
        "outputId": "263570ea-658f-40c4-d206-e21450ae770f"
      },
      "execution_count": 11,
      "outputs": [
        {
          "output_type": "stream",
          "name": "stdout",
          "text": [
            "+-------+--------+---+-----------------+---------+-----------+----------------+\n",
            "|user_id|username|age|balance          |is_active|signup_date|balance_category|\n",
            "+-------+--------+---+-----------------+---------+-----------+----------------+\n",
            "|1000   |user_0  |47 |91003.66015112009|true     |2025-07-25 |High            |\n",
            "|1001   |user_1  |23 |44213.78620974649|false    |2025-06-26 |Medium          |\n",
            "|1002   |user_2  |29 |77729.53566998956|false    |2025-02-28 |High            |\n",
            "|1003   |user_3  |46 |86894.68632900532|true     |2025-07-01 |High            |\n",
            "|1004   |user_4  |29 |81846.7346088069 |false    |2025-05-09 |High            |\n",
            "|1005   |user_5  |36 |3995.35008916293 |false    |2025-02-06 |Low             |\n",
            "|1006   |user_6  |46 |37051.31249392974|true     |2025-03-08 |Medium          |\n",
            "|1007   |user_7  |47 |77137.27854320833|false    |2025-05-06 |High            |\n",
            "|1008   |user_8  |48 |40847.00404732502|false    |2025-04-12 |Medium          |\n",
            "|1009   |user_9  |47 |48141.54507396665|true     |2025-03-29 |Medium          |\n",
            "+-------+--------+---+-----------------+---------+-----------+----------------+\n",
            "only showing top 10 rows\n",
            "\n"
          ]
        }
      ]
    }
  ]
}